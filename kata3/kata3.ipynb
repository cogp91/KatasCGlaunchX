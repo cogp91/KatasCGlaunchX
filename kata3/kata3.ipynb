{
 "cells": [
  {
   "cell_type": "markdown",
   "metadata": {},
   "source": [
    "# Kata 3\n",
    "Autor: Carlos Omar Galvez"
   ]
  },
  {
   "cell_type": "code",
   "execution_count": 1,
   "metadata": {},
   "outputs": [
    {
     "name": "stdout",
     "output_type": "stream",
     "text": [
      "ADVERTENCIA!!!! UN ASTEROIDE SE ACERCA A LA TIERRA A 49km/s\n"
     ]
    }
   ],
   "source": [
    "vel_asteroide = 49\n",
    "if vel_asteroide > 25:\n",
    "    print(\"ADVERTENCIA!!!! UN ASTEROIDE SE ACERCA A LA TIERRA A \" + str(vel_asteroide) + \"km/s\")\n",
    "else:\n",
    "    print(\"Hoy hay un día soleado! Disfrutalo!\")"
   ]
  },
  {
   "cell_type": "code",
   "execution_count": 2,
   "metadata": {},
   "outputs": [
    {
     "name": "stdout",
     "output_type": "stream",
     "text": [
      "Nada interesante en el cielo, por ahora...\n"
     ]
    }
   ],
   "source": [
    "vel_asteroide = 19\n",
    "if vel_asteroide > 20:\n",
    "    print(\"Mira al cielo! podrás ver un rayo de luz\")\n",
    "elif vel_asteroide == 20:\n",
    "    print(\"Mira al cielo! podrás ver un rayo de luz\")\n",
    "else:\n",
    "    print(\"Nada interesante en el cielo, por ahora...\")"
   ]
  },
  {
   "cell_type": "code",
   "execution_count": 8,
   "metadata": {},
   "outputs": [
    {
     "name": "stdout",
     "output_type": "stream",
     "text": [
      "ADVERTENCIA!!! UN ASTEROIDE SE ACERCA A LA TIERRA!!!!\n"
     ]
    }
   ],
   "source": [
    "vel_asteroide = 5\n",
    "tam_asteroide = 100\n",
    "\n",
    "if (tam_asteroide >= 25 and tam_asteroide < 1000) or vel_asteroide > 25:\n",
    "    print(\"ADVERTENCIA!!! UN ASTEROIDE SE ACERCA A LA TIERRA!!!!\")\n",
    "elif vel_asteroide >= 20:\n",
    "    print(\"Mira al cielo! podrás ver un rayo de luz!\")\n",
    "elif tam_asteroide < 25:\n",
    "    print(\"Como que algo se quemó.. no?\")\n",
    "else:\n",
    "    print(\"Nada interesante en el cielo, por ahora...\")\n"
   ]
  }
 ],
 "metadata": {
  "interpreter": {
   "hash": "aee8b7b246df8f9039afb4144a1f6fd8d2ca17a180786b69acc140d282b71a49"
  },
  "kernelspec": {
   "display_name": "Python 3.9.6 64-bit",
   "language": "python",
   "name": "python3"
  },
  "language_info": {
   "codemirror_mode": {
    "name": "ipython",
    "version": 3
   },
   "file_extension": ".py",
   "mimetype": "text/x-python",
   "name": "python",
   "nbconvert_exporter": "python",
   "pygments_lexer": "ipython3",
   "version": "3.9.6"
  },
  "orig_nbformat": 4
 },
 "nbformat": 4,
 "nbformat_minor": 2
}
