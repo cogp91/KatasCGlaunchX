{
 "cells": [
  {
   "cell_type": "markdown",
   "metadata": {},
   "source": [
    "# Kata 9\n",
    "Autor: Carlos Galvez"
   ]
  },
  {
   "cell_type": "markdown",
   "metadata": {},
   "source": [
    "## Ejercicio 1 \n",
    "Uso de funciones en python"
   ]
  },
  {
   "cell_type": "code",
   "execution_count": 1,
   "metadata": {},
   "outputs": [],
   "source": [
    "# funcion para leer 3 tanques y muestre el promedio\n",
    "def informe(tanque1, tanque2, tanque3):\n",
    "    promedio = (tanque1 + tanque2 + tanque3) / 3\n",
    "    return f\"\"\" Informe:\n",
    "    Tanque 1: {tanque1}\n",
    "    Tanque 2: {tanque2}\n",
    "    Tanque 3: {tanque3}\n",
    "    Promedio: {promedio}\n",
    "    \"\"\""
   ]
  },
  {
   "cell_type": "code",
   "execution_count": 3,
   "metadata": {},
   "outputs": [
    {
     "name": "stdout",
     "output_type": "stream",
     "text": [
      " Informe:\n",
      "    Tanque 1: 90\n",
      "    Tanque 2: 80\n",
      "    Tanque 3: 70\n",
      "    Promedio: 80.0\n",
      "    \n"
     ]
    }
   ],
   "source": [
    "# Llamar a la funcion que genera el informe\n",
    "print(informe(90,80,70))"
   ]
  },
  {
   "cell_type": "code",
   "execution_count": 4,
   "metadata": {},
   "outputs": [],
   "source": [
    "# Funcion promedio\n",
    "def promedio(valores):\n",
    "    total = sum(valores)\n",
    "    length = len(valores)\n",
    "    return total/length"
   ]
  },
  {
   "cell_type": "code",
   "execution_count": 5,
   "metadata": {},
   "outputs": [],
   "source": [
    "# Actualizacion funcion informe\n",
    "def informe(tanque1, tanque2, tanque3):\n",
    "    return f\"\"\"Informe:\n",
    "    Tanque 1: {tanque1}\n",
    "    Tanque 2: {tanque2}\n",
    "    Tanque 3: {tanque3}\n",
    "    ------------------\n",
    "    Promedio: {promedio([tanque1, tanque2, tanque3])}\n",
    "    \"\"\""
   ]
  },
  {
   "cell_type": "code",
   "execution_count": 6,
   "metadata": {},
   "outputs": [
    {
     "name": "stdout",
     "output_type": "stream",
     "text": [
      "Informe:\n",
      "    Tanque 1: 90\n",
      "    Tanque 2: 80\n",
      "    Tanque 3: 70\n",
      "    ------------------\n",
      "    Promedio: 80.0\n",
      "    \n"
     ]
    }
   ],
   "source": [
    "# Probar funciones\n",
    "print(informe(90,80,70))"
   ]
  },
  {
   "cell_type": "markdown",
   "metadata": {},
   "source": [
    "## Ejercicio 2\n",
    "Trabajo con argumentos de palabra clave"
   ]
  },
  {
   "cell_type": "code",
   "execution_count": 8,
   "metadata": {},
   "outputs": [],
   "source": [
    "# Funcion con un informe preciso de la mision.\n",
    "def informe_mision(t_prel, t_vuelo, tanque1, n_destino):\n",
    "    return f\"\"\"Informe:\n",
    "    Destino: {n_destino}\n",
    "    Tiempo al destino: {t_prel + t_vuelo}\n",
    "    Combustible actual: {tanque1}\n",
    "    \"\"\""
   ]
  },
  {
   "cell_type": "code",
   "execution_count": 9,
   "metadata": {},
   "outputs": [],
   "source": [
    "# Nueva funcion considerando x numeros de tanques y tiempo\n",
    "def informe_mision(n_destino, *minutes, **fuel_reservoirs):\n",
    "    return f\"\"\"Informe:\n",
    "    Destino: {n_destino}\n",
    "    Tiempo total al destino: {sum(minutes)} minutos\n",
    "    Combustible total: {sum(fuel_reservoirs.values())} lts\n",
    "    \"\"\""
   ]
  },
  {
   "cell_type": "code",
   "execution_count": 13,
   "metadata": {},
   "outputs": [],
   "source": [
    "# Nueva funcion describiendo cada tanque de combustible\n",
    "def informe_mision(n_destino, *minutes, **fuel_reservoirs):\n",
    "    informe = f\"\"\"Informe:\n",
    "Destino: {n_destino}\n",
    "Tiempo total al destino: {sum(minutes)} minutos\n",
    "Combustible total: {sum(fuel_reservoirs.values())} lts\n",
    "\"\"\"\n",
    "    for tanque, lts in fuel_reservoirs.items():\n",
    "        informe += f\"Tanque {tanque}: {lts} lts\\n\"\n",
    "    return informe"
   ]
  },
  {
   "cell_type": "code",
   "execution_count": 14,
   "metadata": {},
   "outputs": [
    {
     "name": "stdout",
     "output_type": "stream",
     "text": [
      "Informe:\n",
      "Destino: Luna\n",
      "Tiempo total al destino: 253 minutos\n",
      "Combustible total: 133332 lts\n",
      "Tanque principal: 88888 lts\n",
      "Tanque extra: 44444 lts\n",
      "\n"
     ]
    }
   ],
   "source": [
    "print(informe_mision(\"Luna\", 10, 5, 238, principal=88888, extra=44444))"
   ]
  }
 ],
 "metadata": {
  "interpreter": {
   "hash": "aee8b7b246df8f9039afb4144a1f6fd8d2ca17a180786b69acc140d282b71a49"
  },
  "kernelspec": {
   "display_name": "Python 3.9.6 64-bit",
   "language": "python",
   "name": "python3"
  },
  "language_info": {
   "codemirror_mode": {
    "name": "ipython",
    "version": 3
   },
   "file_extension": ".py",
   "mimetype": "text/x-python",
   "name": "python",
   "nbconvert_exporter": "python",
   "pygments_lexer": "ipython3",
   "version": "3.9.6"
  },
  "orig_nbformat": 4
 },
 "nbformat": 4,
 "nbformat_minor": 2
}
